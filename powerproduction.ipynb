{
 "cells": [
  {
   "cell_type": "markdown",
   "metadata": {},
   "source": [
    "# Machine Learning Project - Christopher Collins - G00387822"
   ]
  },
  {
   "cell_type": "markdown",
   "metadata": {},
   "source": [
    "## Instructions\n",
    "In this project you must create a web service that uses machine learning to make predictions based on the data set powerproduction available on Moodle. The goal is to produce a model that accurately predicts wind turbine power output from wind speed values, as in the data set. You must then develop a web service that will respond with predicted power values based on speed values sent as HTTP requests. Your submission must be in the form of a git repository containing, at a minimum, the following items:\n",
    "\n",
    "*1. Jupyter notebook that trains a model using the data set. In the notebook you should explain your model and give an analysis of its accuracy.\n",
    "\n",
    "*2. Python script that runs a web service based on the model, as above.\n",
    "\n",
    "*3. Dockerfile to build and run the web service in a container.\n",
    "\n",
    "*4. Standard items in a git repository such as a README."
   ]
  },
  {
   "attachments": {},
   "cell_type": "markdown",
   "metadata": {},
   "source": [
    "## Solution\n",
    "\n",
    "The main solution I used for this project came from Dr Ian McLoughlin's demo of sklearn.linear_model and his demo of seaborn.\n",
    "The video of Dr Ian McLoughlin's demonstration can be seen here https://web.microsoftstream.com/video/08404c4e-fe8b-4b84-832e-6bee57b5b160 and the notebook relating to the video can be found here https://github.com/ianmcloughlin/jupyter-teaching-notebooks/blob/master/models.ipynb\n",
    "\n",
    "Also from a cursory observation of the CSV data, wind speeds below 0.325 and above 24.399 had no energy generated. I could only surmise from this, and from a discussion with someone else about the wind energy industry, is that wind turbines are not moving / turned off if wind speed is to too low or too high. Wind turbines can be turned off to reduce unneccessary wear and tear on machinery when speed is not adequate for producing enough energy or speed is dangerously too high.\n",
    "\n",
    "_If a wind turbine isn’t turning because it’s too windy, or not windy enough, the owner of the wind turbine does not get paid.\n",
    "https://www.scottishrenewables.com/news/576-blog-why-that-wind-turbine-isnt-turning\n",
    "\n",
    "_'Modern wind turbines are designed to shut off or slow their blades during high winds. If the blades turn too fast, it can cause the entire structure to become unstable and then disintegrate.https://www.wind-watch.org/news/2019/02/20/high-winds-topple-turbine/\n",
    "\n",
    "The solution I made to approximately predict the likely energy output from wind speeds would require a solution that took into account the industry practice of turning the wind turbines off for high speeds and low speeds.\n",
    "\n",
    "### Building in a control for low and high wind speeds\n",
    "\n",
    "Not all results from a linear machine learning analysis of the data make sense\n",
    "\n",
    "**predict_power_output(60)\n",
    "For example a simple analysis of wind speed of 60 miles an hour would return an energy output of 281.155\n",
    "\n",
    "We already know from a cursory look of the csv data, that no energy is produced from speeds above 24.399.\n",
    "**We handle wind speeds above 24.399 with an if statement to return 0 energy output.**\n",
    "\n",
    "**predict_power_output(2)\n",
    "Another example of wind speed of 2 miles an hour, a simple analysis would return a negative energy output of -4.064\n",
    "\n",
    "\n",
    "**We handle wind speeds of below 0.325 with an if statement to return 0 energy output**, as there is no evidence on the CSV file that the wind turbine consumes energy and generates negative energy values for low wind speeds.\n",
    "\n",
    "The reader might query why the linear machine learning module in Python returns a negative energy value of -4.064 for a wind speed of 2mph, when there is wind speed data as low as 0.325 generating power. Typically turbines are able to generate electricity in winds of about 7mph https://www.scottishrenewables.com/news/576-blog-why-that-wind-turbine-isnt-turning However our CSV data indicates that these turbines can generate power from speeds as low as 0.325\n",
    "\n",
    "The energy data that the wind turbine produces can be distorted by the fact that the owner of the wind turbine may have chosen to turn the wind turbine off on certain days, this could be for three reasons: 1) They’re being maintained, or need maintenance\n",
    "2) It’s not windy enough for them to operate at all, or too windy for them to operate 3) There is no demand on the grid for the supply of the energy.\n",
    "\n",
    "We do not know the reasons why no energy was generated on these windy days where wind speed was above 0.325 To have an accurate machine learning model, you would strip out the days that the wind turbines were turned off for maintenance or because there was no demand for energy, as this data detracts from being able to accurately predict energy than can be produced from wind speed.\n",
    "\n",
    "speed\tpower\n",
    "0.726\t0\n",
    "0.751\t0\n",
    "1.026\t0\n",
    "1.076\t0\n",
    "1.301\t0\n",
    "1.552\t0\n",
    "1.677\t0\n",
    "1.827\t0\n",
    "2.027\t0\n",
    "2.077\t0\n",
    "2.102\t0\n",
    "2.252\t0\n",
    "3.128\t0\n",
    "3.504\t0\n",
    "3.579\t0\n",
    "3.679\t0\n",
    "3.779\t0\n",
    "3.804\t0\n",
    "3.879\t0\n",
    "4.429\t0\n",
    "4.88\t0\n",
    "5.556\t0\n",
    "5.781\t0\n",
    "5.806\t0\n",
    "5.931\t0\n",
    "6.782\t0\n",
    "6.857\t0\n",
    "6.957\t0\n",
    "7.107\t0\n",
    "7.432\t0\n",
    "10.511\t0\n",
    "17.167\t0\n",
    "20.095\t0\n",
    "22.998\t0\n",
    "24.499\t0\n",
    "24.525\t0\n",
    "24.575\t0\n",
    "24.65\t0\n",
    "24.75\t0\n",
    "24.775\t0\n",
    "24.85\t0\n",
    "24.875\t0\n",
    "24.95\t0\n",
    "25\t    0\n",
    "\n",
    "We know for a fact that 2mph winds can generate energy, see speeds between 0.3 and 3 generating energy, yet the above zero days distort the machine learning output\n",
    "\n",
    "speed\tpower\n",
    "0.325\t4.331\n",
    "0.4\t    5.186\n",
    "0.45\t3.826\n",
    "0.501\t1.048\n",
    "0.526\t5.553\n",
    "0.551\t6.498\n",
    "0.576\t5.241\n",
    "0.626\t4.22\n",
    "0.676\t7.974\n",
    "0.701\t9.746\n",
    "0.801\t7.271\n",
    "0.826\t0.795\n",
    "0.851\t7.35\n",
    "0.926\t1.996\n",
    "0.951\t1.609\n",
    "0.976\t2.064\n",
    "1.001\t6.511\n",
    "1.051\t2.085\n",
    "1.101\t0.121\n",
    "1.151\t1.208\n",
    "1.251\t3.373\n",
    "1.276\t6.51\n",
    "1.401\t4.156\n",
    "1.426\t2.005\n",
    "1.502\t5.352\n",
    "1.652\t7.221\n",
    "1.702\t2.439\n",
    "1.877\t2.359\n",
    "1.902\t7.048\n",
    "2.177\t2.701\n",
    "2.227\t2.869\n",
    "2.402\t2.287\n",
    "2.477\t6.947\n",
    "2.553\t2.37\n",
    "2.578\t3.165\n",
    "2.703\t0.667\n",
    "2.828\t7.559\n",
    "2.853\t14.131\n",
    "2.953\t2.894\n",
    "\n",
    "### Visualisation of the data\n",
    "When Dr McLoughlin was demoing the seaborn sns.regplot method, he demonstrated a great visualisation of the relationship between two variables (penguin flipper length and penguin body mass). As the powerproduction.csv only used two variables, speed and energy, I was able to quickly adapt the code from Dr McLoughlin's example to visualise the relationship between speed and energy.\n",
    "\n",
    "**Dr McLoughlin's code**\n",
    "\n",
    "\n",
    "import seaborn as sns\n",
    "\n",
    "penguins = sns.load_dataset(\"penguins\")\n",
    "\n",
    "flipper = penguins[[\"body_mass_g\", \"flipper_length_mm\"]].dropna()\n",
    "sns.regplot(x=\"body_mass_g\", y=\"flipper_length_mm\", data=penguins)\n",
    "\n",
    "**My adation of code**\n",
    "\n",
    "import seaborn as sns\n",
    "import pandas as pd\n",
    "\n",
    "powerproduction = pd.read_csv('powerproduction.csv')\n",
    "\n",
    "poweranalysis = powerproduction[[\"speed\", \"power\"]].dropna()\n",
    "sns.regplot(x=\"speed\", y=\"power\", data=powerproduction)\n",
    "\n",
    "\n",
    "_the main adaption I had to make to my code was importing the pandas module so that I could load the csv data for analysis, whereas Dr McLoughlin's code used a dataset called penguins which was already inbuilt into the seaborn module_\n",
    "\n",
    "\n",
    "This visualisation of the data on a linear graph meant that I could quite quickly see whether the output analysis of the inbuilt methods of sklearn were likely to be correct approximations and not wildly out.\n",
    "\n",
    "### Linear Regression using sklearn"
   ]
  },
  {
   "cell_type": "code",
   "execution_count": 1,
   "metadata": {},
   "outputs": [
    {
     "name": "stdout",
     "output_type": "stream",
     "text": [
      "      speed  power\n",
      "0     0.000    0.0\n",
      "1     0.125    0.0\n",
      "2     0.150    0.0\n",
      "3     0.225    0.0\n",
      "4     0.275    0.0\n",
      "..      ...    ...\n",
      "495  24.775    0.0\n",
      "496  24.850    0.0\n",
      "497  24.875    0.0\n",
      "498  24.950    0.0\n",
      "499  25.000    0.0\n",
      "\n",
      "[500 rows x 2 columns]\n"
     ]
    }
   ],
   "source": [
    "#https://github.com/ianmcloughlin/jupyter-teaching-notebooks/blob/master/models.ipynb\n",
    "#https://stackoverflow.com/questions/30336324/seaborn-load-dataset\n",
    "#powerproduction\n",
    "import seaborn as sns\n",
    "import pandas as pd\n",
    "\n",
    "# Load a dataset.\n",
    "powerproduction = pd.read_csv('powerproduction.csv')\n",
    "\n",
    "#view raw data\n",
    "print(powerproduction)"
   ]
  },
  {
   "cell_type": "code",
   "execution_count": 2,
   "metadata": {
    "scrolled": true
   },
   "outputs": [
    {
     "data": {
      "text/plain": [
       "<seaborn.axisgrid.PairGrid at 0x1a4a0e1ab50>"
      ]
     },
     "execution_count": 2,
     "metadata": {},
     "output_type": "execute_result"
    },
    {
     "data": {
      "image/png": "[encoded data removed]",
      "text/plain": [
       "<Figure size 360x360 with 6 Axes>"
      ]
     },
     "metadata": {
      "needs_background": "light"
     },
     "output_type": "display_data"
    }
   ],
   "source": [
    "# Pick out two variables.\n",
    "sns.pairplot(powerproduction)"
   ]
  },
  {
   "cell_type": "code",
   "execution_count": 3,
   "metadata": {},
   "outputs": [
    {
     "data": {
      "text/plain": [
       "<matplotlib.axes._subplots.AxesSubplot at 0x1a4a6018250>"
      ]
     },
     "execution_count": 3,
     "metadata": {},
     "output_type": "execute_result"
    },
    {
     "data": {
      "image/png": "[encoded data removed]",
      "text/plain": [
       "<Figure size 432x288 with 1 Axes>"
      ]
     },
     "metadata": {
      "needs_background": "light"
     },
     "output_type": "display_data"
    }
   ],
   "source": [
    "poweranalysis = powerproduction[[\"speed\", \"power\"]].dropna()\n",
    "# Scatter and fit line for just those two variables.\n",
    "sns.regplot(x=\"speed\", y=\"power\", data=powerproduction)"
   ]
  },
  {
   "cell_type": "code",
   "execution_count": 13,
   "metadata": {},
   "outputs": [
    {
     "name": "stdout",
     "output_type": "stream",
     "text": [
      "Enter a wind speed56\n",
      "The wind turbine is turned off when wind speeds exceed 24.99\n"
     ]
    },
    {
     "ename": "NameError",
     "evalue": "name 'end' is not defined",
     "output_type": "error",
     "traceback": [
      "\u001b[1;31m---------------------------------------------------------------------------\u001b[0m",
      "\u001b[1;31mNameError\u001b[0m                                 Traceback (most recent call last)",
      "\u001b[1;32m<ipython-input-13-e61863f6a229>\u001b[0m in \u001b[0;36m<module>\u001b[1;34m\u001b[0m\n\u001b[0;32m     23\u001b[0m \u001b[1;32mif\u001b[0m \u001b[0mspeed_test\u001b[0m \u001b[1;33m>\u001b[0m \u001b[1;36m24.499\u001b[0m\u001b[1;33m:\u001b[0m\u001b[1;33m\u001b[0m\u001b[1;33m\u001b[0m\u001b[0m\n\u001b[0;32m     24\u001b[0m     \u001b[0mprint\u001b[0m\u001b[1;33m(\u001b[0m\u001b[1;34m\"The wind turbine is turned off when wind speeds exceed 24.99\"\u001b[0m\u001b[1;33m)\u001b[0m\u001b[1;33m\u001b[0m\u001b[1;33m\u001b[0m\u001b[0m\n\u001b[1;32m---> 25\u001b[1;33m     \u001b[0mend\u001b[0m\u001b[1;33m\u001b[0m\u001b[1;33m\u001b[0m\u001b[0m\n\u001b[0m\u001b[0;32m     26\u001b[0m \u001b[1;33m\u001b[0m\u001b[0m\n\u001b[0;32m     27\u001b[0m \u001b[1;32mif\u001b[0m \u001b[0mspeed_test\u001b[0m \u001b[1;33m<\u001b[0m \u001b[1;36m0.3\u001b[0m\u001b[1;33m:\u001b[0m\u001b[1;33m\u001b[0m\u001b[1;33m\u001b[0m\u001b[0m\n",
      "\u001b[1;31mNameError\u001b[0m: name 'end' is not defined"
     ]
    }
   ],
   "source": [
    "import sklearn.linear_model as lin\n",
    "\n",
    "def f(speed, p):\n",
    "    return p[0] + speed * p[1]\n",
    "\n",
    "def predict_power_output(speed):\n",
    "    return f(speed, p)\n",
    "\n",
    "speed = powerproduction[\"speed\"].to_numpy()\n",
    "y = powerproduction[\"power\"].to_numpy()\n",
    "\n",
    "speed = speed.reshape(-1, 1)\n",
    "\n",
    "model = lin.LinearRegression()\n",
    "model.fit(speed, y)\n",
    "r = model.score(speed, y)\n",
    "p = [model.intercept_, model.coef_[0]]\n",
    "\n",
    "speed_test = int(input(\"Enter a wind speed\"))\n",
    "\n",
    "result = predict_power_output(speed_test)\n",
    "\n",
    "if speed_test > 24.499:\n",
    "    print(\"The wind turbine is turned off when wind speeds exceed 24.99\")\n",
    "    end\n",
    "\n",
    "if speed_test < 0.3:\n",
    "    print(\"The wind turbine is turned off when wind speeds are below 0.3\")\n",
    "    end\n",
    "    \n",
    "if result <= 0:\n",
    "    print(\"Energy generated from wind speed is 0\")\n",
    "\n",
    "if result > 0:\n",
    "    print(result)"
   ]
  },
  {
   "cell_type": "code",
   "execution_count": 5,
   "metadata": {},
   "outputs": [
    {
     "data": {
      "text/plain": [
       "0.7289360258564073"
      ]
     },
     "execution_count": 5,
     "metadata": {},
     "output_type": "execute_result"
    }
   ],
   "source": [
    "r"
   ]
  },
  {
   "cell_type": "code",
   "execution_count": 6,
   "metadata": {},
   "outputs": [
    {
     "data": {
      "text/plain": [
       "[-13.89990263051962, 4.917595665404669]"
      ]
     },
     "execution_count": 6,
     "metadata": {},
     "output_type": "execute_result"
    }
   ],
   "source": [
    "p"
   ]
  },
  {
   "cell_type": "code",
   "execution_count": 7,
   "metadata": {},
   "outputs": [
    {
     "data": {
      "text/plain": [
       "35.27605402352707"
      ]
     },
     "execution_count": 7,
     "metadata": {},
     "output_type": "execute_result"
    }
   ],
   "source": [
    "f(10, p)"
   ]
  },
  {
   "cell_type": "code",
   "execution_count": 17,
   "metadata": {},
   "outputs": [
    {
     "data": {
      "text/plain": [
       "0.8528843656943863"
      ]
     },
     "execution_count": 17,
     "metadata": {},
     "output_type": "execute_result"
    }
   ],
   "source": [
    "predict_power_output(3)"
   ]
  },
  {
   "cell_type": "code",
   "execution_count": null,
   "metadata": {},
   "outputs": [],
   "source": []
  },
  {
   "cell_type": "code",
   "execution_count": null,
   "metadata": {},
   "outputs": [],
   "source": []
  }
 ],
 "metadata": {
  "kernelspec": {
   "display_name": "Python 3",
   "language": "python",
   "name": "python3"
  },
  "language_info": {
   "codemirror_mode": {
    "name": "ipython",
    "version": 3
   },
   "file_extension": ".py",
   "mimetype": "text/x-python",
   "name": "python",
   "nbconvert_exporter": "python",
   "pygments_lexer": "ipython3",
   "version": "3.8.3"
  }
 },
 "nbformat": 4,
 "nbformat_minor": 4
}
