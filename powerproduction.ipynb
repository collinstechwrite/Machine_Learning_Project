{
 "cells": [
  {
   "cell_type": "markdown",
   "metadata": {},
   "source": [
    "# Machine Learning Project - Christopher Collins - G00387822"
   ]
  },
  {
   "cell_type": "markdown",
   "metadata": {},
   "source": [
    "## Instructions\n",
    "In this project you must create a web service that uses machine learning to make predictions based on the data set powerproduction available on Moodle. The goal is to produce a model that accurately predicts wind turbine power output from wind speed values, as in the data set. You must then develop a web service that will respond with predicted power values based on speed values sent as HTTP requests. Your submission must be in the form of a git repository containing, at a minimum, the following items:\n",
    "\n",
    "*1. Jupyter notebook that trains a model using the data set. In the notebook you should explain your model and give an analysis of its accuracy.\n",
    "\n",
    "*2. Python script that runs a web service based on the model, as above.\n",
    "\n",
    "*3. Dockerfile to build and run the web service in a container.\n",
    "\n",
    "*4. Standard items in a git repository such as a README."
   ]
  },
  {
   "cell_type": "markdown",
   "metadata": {},
   "source": [
    "# My Model And Its Accuracy"
   ]
  },
  {
   "cell_type": "markdown",
   "metadata": {},
   "source": [
    "![AlgorithmStrengths](AlgorithmStrengths.png)\n",
    "\n",
    "\n",
    "If you don't have time to read my notebook. Here is a summary of my model and it's accuracy. I managed to achieve a model with what I consider a reasonable degree of accuracy using some adjustments to simple linear regression.\n",
    "\n",
    "A lot of the theory groundwork for my algorithm can also be found in my Fundamentals For Data Analysis Project which is a bit neater than some of my Jupyter Notebook work below https://github.com/g00387822/Fundamentals_Data_Analysis_Project/blob/main/Project%202020%20Fundamentals%20of%20Data%20Analysis.ipynb\n",
    "\n",
    "Looking at the raw data it is noted that wind speeds 0.275 and below generate no power, wind speeds 24.499 generate no power.\n",
    "There are industry reasons for this. So if a user types a wind speed within those ranges, I will dismiss it and handle their query with an if statement that will return the value of zero.\n",
    "\n",
    "Looking at the raw data it is noted that there are are days of wind between the above speeds and no power produced. In my final model days that produce zero power are stripped out. There are industry reasons such as wind turbines being shut for maintenance or not enough demand from the grid. In my modeling I am not interested in including zero power production on windy days.\n",
    "\n",
    "Even with or without filtering out zero power days, I found it impossible to make reasonable predictions from simple linear regression prediction or polynomial regression prediction on the whole dataset alone, \n",
    "\n",
    "\n",
    "![PredictionTable](PredictionTable.png)\n",
    "\n",
    "\n",
    "for instance inputting 0.325 or 2mph would generate a negative value in simple linear regression prediction, and values input for prediction on higher wind speeds such as 24.399, the prediction would exceed wind speeds found in real data.\n",
    "\n",
    "Basically within the data are days where there are power production surges, and these surges negatively impact the predictions, the further way a number is for forecasting. For example power surges in the wind speed ranges 20 - 25 mph can distort the average size of the dataset when trying to predict wind speeds for speeds such as 2mph, likewise power production values in lower wind speeds can distort making predictions for higher wind speeds.\n",
    "\n",
    "The best linear prediction happens when you narrow the range of data being used for linear regression analysis.\n",
    "\n",
    "\n",
    "**My solution can be summarised as follows**\n",
    "\n",
    "I filtered out the zero power production days \n",
    "\n",
    "If a user types wind speeds equal or lower than 0.275 or higher than or equal to 24.499, it will be handled with an if statement and return 0\n",
    "\n",
    "All other speeds, linear regression will look at the following bands of data\n",
    "\n",
    "0.275 - 5 mph , \n",
    "'> 5 - 10 mph\n",
    "'> 10 - 15 mph\n",
    "'>15 - 20 mph\n",
    "'>20 - 24.498 mph\n",
    "\n",
    "So if a user inputs a wind speed between 0.275 - 5 mph, it will get a linear prediction from wind speed data betwween 0 and 5 mph.\n",
    "\n",
    "So if a user inputs a wind speed between 5 - 10 mph, it will get a linear prediction from wind speed data betwween 5 and 10 mph.\n",
    "\n",
    "So if a user inputs a wind speed between 10 - 15 mph, it will get a linear prediction from wind speed data betwween 10 and 15 mph.\n",
    "\n",
    "So if a user inputs a wind speed between 15 - 20 mph, it will get a linear prediction from wind speed data betwween 15 and 20 mph.\n",
    "\n",
    "So if a user inputs a wind speed between 20 - 25 mph, it will get a linear prediction from wind speed data betwween 20 and 24.498 mph.\n",
    "\n",
    "I put my final code immediately below."
   ]
  },
  {
   "cell_type": "markdown",
   "metadata": {},
   "source": [
    "# My Final Code For Predicting Energy Production From Wind Speed"
   ]
  },
  {
   "cell_type": "code",
   "execution_count": 1,
   "metadata": {},
   "outputs": [],
   "source": [
    "import sklearn.linear_model as lin\n",
    "import pandas as pd\n",
    "\n",
    "def do_linear_regression(data,text):\n",
    "\n",
    "    # Load a dataset.\n",
    "    text = text\n",
    "    powerproduction = data\n",
    "    def f(speed, p):\n",
    "        return p[0] + speed * p[1]\n",
    "\n",
    "    def predict_power_output(speed):\n",
    "        return round(f(speed, p),2)\n",
    "\n",
    "    speed = powerproduction[\"speed\"].to_numpy()\n",
    "    y = powerproduction[\"power\"].to_numpy()\n",
    "\n",
    "    speed = speed.reshape(-1, 1)\n",
    "\n",
    "    model = lin.LinearRegression()\n",
    "    model.fit(speed, y)\n",
    "    r = model.score(speed, y)\n",
    "    p = [model.intercept_, model.coef_[0]]\n",
    "\n",
    "    return(predict_power_output(float(text)))\n",
    "\n",
    "# Load a dataset.\n",
    "df = pd.read_csv('powerproduction.csv')\n",
    "\n",
    "# We are removing the non zero values\n",
    "cleansed_data_2 = df.loc[df['power'] > 0 ]\n",
    "\n",
    "# filtering between values see https://stackoverflow.com/questions/29370057/select-dataframe-rows-between-two-dates\n",
    "\n",
    "\n",
    "\n",
    "# If a user types wind speeds lower than 0.275 or equal higher than 24.499, it will be handled with an if statement and return 0\n",
    "\n",
    "def receive_text_from_form(text):\n",
    "    text = text\n",
    "    if text <= 0.275:\n",
    "        return 0\n",
    "\n",
    "    if text >= 24.499:\n",
    "        return 0\n",
    "\n",
    "\n",
    "    #if a user inputs a wind speed between 0 - 5 mph, they will get a linear prediction from wind speed data betwween 0 and 5 mph.\n",
    "\n",
    "    if text > 0.275 and text <= 5:\n",
    "        zero_to_five = cleansed_data_2.loc[(cleansed_data_2['speed'] > 0.275) & (cleansed_data_2['speed']<= 5)]\n",
    "        return do_linear_regression(zero_to_five,text)\n",
    "\n",
    "\n",
    "    #if a user inputs a wind speed between 5 - 10 mph, they will get a linear prediction from wind speed data betwween 5 and 10 mph.\n",
    "\n",
    "    if text > 5 and text <= 10:\n",
    "        greater_than_five_to_ten = cleansed_data_2.loc[(cleansed_data_2['speed'] > 5) & (cleansed_data_2['speed']<= 10)]\n",
    "        return do_linear_regression(greater_than_five_to_ten,text)\n",
    "\n",
    "\n",
    "    #if a user inputs a wind speed between 10 - 15 mph, they will get a linear prediction from wind speed data betwween 10 and 15 mph.\n",
    "        \n",
    "    if text > 10 and text <= 15:\n",
    "        greater_than_ten_to_fifteen = cleansed_data_2.loc[(cleansed_data_2['speed'] > 10) & (cleansed_data_2['speed']<= 15)]\n",
    "        return do_linear_regression(greater_than_ten_to_fifteen,text)\n",
    "\n",
    "    #if a user inputs a wind speed between 15 - 20 mph, they will get a linear prediction from wind speed data betwween 15 and 20 mph.\n",
    "\n",
    "    if text > 15 and text <= 20:\n",
    "        greater_than_fifteen_to_twenty = cleansed_data_2.loc[(cleansed_data_2['speed'] > 15) & (cleansed_data_2['speed']<= 20)]\n",
    "        return do_linear_regression(greater_than_fifteen_to_twenty,text)\n",
    "\n",
    "        #if a user inputs a wind speed between 20 - 25 mph, they will get a linear prediction from wind speed data betwween 20 and 25 mph.\n",
    "\n",
    "    if text > 20 and text <= 24.498:\n",
    "        greater_than_twenty_to_twenty_five = cleansed_data_2.loc[(cleansed_data_2['speed'] > 20) & (cleansed_data_2['speed']<= 24.498)]\n",
    "        return do_linear_regression(greater_than_twenty_to_twenty_five,text)\n"
   ]
  },
  {
   "cell_type": "code",
   "execution_count": 2,
   "metadata": {},
   "outputs": [
    {
     "data": {
      "text/plain": [
       "4.29"
      ]
     },
     "execution_count": 2,
     "metadata": {},
     "output_type": "execute_result"
    }
   ],
   "source": [
    "receive_text_from_form(0.325)"
   ]
  },
  {
   "cell_type": "code",
   "execution_count": 3,
   "metadata": {},
   "outputs": [
    {
     "data": {
      "text/plain": [
       "4.22"
      ]
     },
     "execution_count": 3,
     "metadata": {},
     "output_type": "execute_result"
    }
   ],
   "source": [
    "receive_text_from_form(2)"
   ]
  },
  {
   "cell_type": "code",
   "execution_count": 4,
   "metadata": {},
   "outputs": [
    {
     "data": {
      "text/plain": [
       "0"
      ]
     },
     "execution_count": 4,
     "metadata": {},
     "output_type": "execute_result"
    }
   ],
   "source": [
    "receive_text_from_form(25)"
   ]
  },
  {
   "cell_type": "code",
   "execution_count": 5,
   "metadata": {},
   "outputs": [
    {
     "data": {
      "text/plain": [
       "98.86"
      ]
     },
     "execution_count": 5,
     "metadata": {},
     "output_type": "execute_result"
    }
   ],
   "source": [
    "receive_text_from_form(24.399)"
   ]
  },
  {
   "cell_type": "code",
   "execution_count": 6,
   "metadata": {},
   "outputs": [
    {
     "data": {
      "text/plain": [
       "0"
      ]
     },
     "execution_count": 6,
     "metadata": {},
     "output_type": "execute_result"
    }
   ],
   "source": [
    "receive_text_from_form(60)"
   ]
  },
  {
   "cell_type": "markdown",
   "metadata": {},
   "source": [
    "### Functions For Measuring Data Corellation And R Relationship"
   ]
  },
  {
   "cell_type": "markdown",
   "metadata": {},
   "source": [
    "#### R Relationship For Simple Linear Regression\n",
    "\n",
    "Below is an algorithm for measuring the R Relationship Of Simple Linear Regression To The Original Dataset, the result 0.8537775037188597 shows that there is quite a strong relationship, however that relationship gets even stronger when the zero power values are stripped out, 0.9478835830699075. My reasons for stripping out the zero power values are discussed in more detail in the 'Observations Of The Data', simply put there are industry practices where turbines are turned off for a number of reasons, and these deliberate decisions make speed to power prediction algorithms unstable when zero power days are left in."
   ]
  },
  {
   "cell_type": "code",
   "execution_count": 7,
   "metadata": {},
   "outputs": [
    {
     "name": "stdout",
     "output_type": "stream",
     "text": [
      "0.8537775037188597\n",
      "0.9478835830699075\n"
     ]
    }
   ],
   "source": [
    "# https://www.w3schools.com/python/python_ml_linear_regression.asp\n",
    "\n",
    "def analyse_simple_linear_regression_r(powerproduction):\n",
    "    from scipy import stats\n",
    "    import pandas as pd\n",
    "\n",
    "\n",
    "\n",
    "    x = powerproduction['speed'].tolist()\n",
    "    y = powerproduction['power'].tolist()\n",
    "\n",
    "    slope, intercept, r, p, std_err = stats.linregress(x, y)\n",
    "\n",
    "    print(r)\n",
    "\n",
    "\n",
    "powerproduction = pd.read_csv('powerproduction.csv')\n",
    "# We are removing the non zero values\n",
    "cleansed_data = df.loc[df['power'] > 0 ]\n",
    "\n",
    "analyse_simple_linear_regression_r(powerproduction)\n",
    "analyse_simple_linear_regression_r(cleansed_data)"
   ]
  },
  {
   "cell_type": "markdown",
   "metadata": {},
   "source": [
    "### Why Performing Simple Linear Analysis On Entire Section Of Data Is A Bad Idea For Predictions"
   ]
  },
  {
   "cell_type": "markdown",
   "metadata": {},
   "source": [
    "If you look at the graph generated by the code below, you will see that running a line straight through the middle of the data, means that there are large parts of the data untouched by the line where a linear prediction of the coordinates of speed to power would be very out of sync with where most of the data is."
   ]
  },
  {
   "cell_type": "code",
   "execution_count": 8,
   "metadata": {
    "scrolled": true
   },
   "outputs": [
    {
     "data": {
      "image/png": "[encoded data removed]",
      "text/plain": [
       "<Figure size 432x288 with 1 Axes>"
      ]
     },
     "metadata": {
      "needs_background": "light"
     },
     "output_type": "display_data"
    }
   ],
   "source": [
    "# https://www.w3schools.com/python/python_ml_linear_regression.asp\n",
    "from matplotlib import pyplot as plt\n",
    "from scipy import stats\n",
    "import pandas as pd\n",
    "%matplotlib inline\n",
    "\n",
    "powerproduction = pd.read_csv('powerproduction.csv')\n",
    "\n",
    "x = powerproduction['speed'].tolist()\n",
    "y = powerproduction['power'].tolist()\n",
    "\n",
    "slope, intercept, r, p, std_err = stats.linregress(x, y)\n",
    "\n",
    "def myfunc(x):\n",
    "  return slope * x + intercept\n",
    "\n",
    "mymodel = list(map(myfunc, x))\n",
    "\n",
    "plt.scatter(x, y)\n",
    "plt.plot(x, mymodel)\n",
    "plt.show()"
   ]
  },
  {
   "cell_type": "markdown",
   "metadata": {},
   "source": [
    "### Why Performing Simple Linear Analysis On Small Segments Of Data Is A Great Idea For Predictions\n",
    "\n",
    "You will see when I break down the data into small sections below that running a linear line through them, the line is always much closer to the data and touching the centre of data in parts, and therefore more capable of making predictions that in someway represent observations found in the real data."
   ]
  },
  {
   "cell_type": "markdown",
   "metadata": {},
   "source": [
    "### Zero to Five"
   ]
  },
  {
   "cell_type": "code",
   "execution_count": 9,
   "metadata": {},
   "outputs": [
    {
     "data": {
      "image/png": "[encoded data removed]",
      "text/plain": [
       "<Figure size 432x288 with 1 Axes>"
      ]
     },
     "metadata": {
      "needs_background": "light"
     },
     "output_type": "display_data"
    }
   ],
   "source": [
    "# https://www.w3schools.com/python/python_ml_linear_regression.asp\n",
    "from matplotlib import pyplot as plt\n",
    "from scipy import stats\n",
    "import pandas as pd\n",
    "%matplotlib inline\n",
    "\n",
    "# Load a dataset.\n",
    "df = pd.read_csv('powerproduction.csv')\n",
    "\n",
    "# We are removing the non zero values\n",
    "cleansed_data_2 = df.loc[df['power'] > 0 ]\n",
    "\n",
    "zero_to_five = cleansed_data_2.loc[(cleansed_data_2['speed'] > 0.275) & (cleansed_data_2['speed']<= 5)]\n",
    "\n",
    "x = zero_to_five['speed'].tolist()\n",
    "y = zero_to_five['power'].tolist()\n",
    "\n",
    "slope, intercept, r, p, std_err = stats.linregress(x, y)\n",
    "\n",
    "def myfunc(x):\n",
    "  return slope * x + intercept\n",
    "\n",
    "mymodel = list(map(myfunc, x))\n",
    "\n",
    "plt.scatter(x, y)\n",
    "plt.plot(x, mymodel)\n",
    "plt.show()\n",
    "\n"
   ]
  },
  {
   "cell_type": "markdown",
   "metadata": {},
   "source": [
    "### greater than five to ten"
   ]
  },
  {
   "cell_type": "code",
   "execution_count": 10,
   "metadata": {},
   "outputs": [
    {
     "data": {
      "image/png": "[encoded data removed]",
      "text/plain": [
       "<Figure size 432x288 with 1 Axes>"
      ]
     },
     "metadata": {
      "needs_background": "light"
     },
     "output_type": "display_data"
    },
    {
     "name": "stdout",
     "output_type": "stream",
     "text": [
      "0.7257177091323912\n"
     ]
    }
   ],
   "source": [
    "# https://www.w3schools.com/python/python_ml_linear_regression.asp\n",
    "from matplotlib import pyplot as plt\n",
    "from scipy import stats\n",
    "import pandas as pd\n",
    "%matplotlib inline\n",
    "\n",
    "# Load a dataset.\n",
    "df = pd.read_csv('powerproduction.csv')\n",
    "\n",
    "# We are removing the non zero values\n",
    "cleansed_data_2 = df.loc[df['power'] > 0 ]\n",
    "\n",
    "greater_than_five_to_ten = cleansed_data_2.loc[(cleansed_data_2['speed'] > 5) & (cleansed_data_2['speed']<= 10)]\n",
    "\n",
    "x = greater_than_five_to_ten ['speed'].tolist()\n",
    "y = greater_than_five_to_ten ['power'].tolist()\n",
    "\n",
    "slope, intercept, r, p, std_err = stats.linregress(x, y)\n",
    "\n",
    "def myfunc(x):\n",
    "  return slope * x + intercept\n",
    "\n",
    "mymodel = list(map(myfunc, x))\n",
    "\n",
    "plt.scatter(x, y)\n",
    "plt.plot(x, mymodel)\n",
    "plt.show()\n",
    "\n",
    "analyse_simple_linear_regression_r(greater_than_five_to_ten)"
   ]
  },
  {
   "cell_type": "markdown",
   "metadata": {},
   "source": [
    "### greater than ten to fifteen"
   ]
  },
  {
   "cell_type": "code",
   "execution_count": 11,
   "metadata": {},
   "outputs": [
    {
     "data": {
      "image/png": "[encoded data removed]",
      "text/plain": [
       "<Figure size 432x288 with 1 Axes>"
      ]
     },
     "metadata": {
      "needs_background": "light"
     },
     "output_type": "display_data"
    },
    {
     "name": "stdout",
     "output_type": "stream",
     "text": [
      "0.9718650122070693\n"
     ]
    }
   ],
   "source": [
    "# https://www.w3schools.com/python/python_ml_linear_regression.asp\n",
    "from matplotlib import pyplot as plt\n",
    "from scipy import stats\n",
    "import pandas as pd\n",
    "%matplotlib inline\n",
    "\n",
    "# Load a dataset.\n",
    "df = pd.read_csv('powerproduction.csv')\n",
    "\n",
    "# We are removing the non zero values\n",
    "cleansed_data_2 = df.loc[df['power'] > 0 ]\n",
    "\n",
    "greater_than_ten_to_fifteen = cleansed_data_2.loc[(cleansed_data_2['speed'] > 10) & (cleansed_data_2['speed']<= 15)]\n",
    "\n",
    "x = greater_than_ten_to_fifteen['speed'].tolist()\n",
    "y = greater_than_ten_to_fifteen['power'].tolist()\n",
    "\n",
    "slope, intercept, r, p, std_err = stats.linregress(x, y)\n",
    "\n",
    "def myfunc(x):\n",
    "  return slope * x + intercept\n",
    "\n",
    "mymodel = list(map(myfunc, x))\n",
    "\n",
    "plt.scatter(x, y)\n",
    "plt.plot(x, mymodel)\n",
    "plt.show()\n",
    "\n",
    "analyse_simple_linear_regression_r(greater_than_ten_to_fifteen )"
   ]
  },
  {
   "cell_type": "markdown",
   "metadata": {},
   "source": [
    "### greater than fifteen to twenty"
   ]
  },
  {
   "cell_type": "code",
   "execution_count": 12,
   "metadata": {},
   "outputs": [
    {
     "data": {
      "image/png": "[encoded data removed]",
      "text/plain": [
       "<Figure size 432x288 with 1 Axes>"
      ]
     },
     "metadata": {
      "needs_background": "light"
     },
     "output_type": "display_data"
    },
    {
     "name": "stdout",
     "output_type": "stream",
     "text": [
      "0.760884796026968\n"
     ]
    }
   ],
   "source": [
    "# https://www.w3schools.com/python/python_ml_linear_regression.asp\n",
    "from matplotlib import pyplot as plt\n",
    "from scipy import stats\n",
    "import pandas as pd\n",
    "%matplotlib inline\n",
    "\n",
    "# Load a dataset.\n",
    "df = pd.read_csv('powerproduction.csv')\n",
    "\n",
    "# We are removing the non zero values\n",
    "cleansed_data_2 = df.loc[df['power'] > 0 ]\n",
    "\n",
    "greater_than_fifteen_to_twenty = cleansed_data_2.loc[(cleansed_data_2['speed'] > 15) & (cleansed_data_2['speed']<= 20)]\n",
    "\n",
    "x = greater_than_fifteen_to_twenty['speed'].tolist()\n",
    "y = greater_than_fifteen_to_twenty['power'].tolist()\n",
    "\n",
    "slope, intercept, r, p, std_err = stats.linregress(x, y)\n",
    "\n",
    "def myfunc(x):\n",
    "  return slope * x + intercept\n",
    "\n",
    "mymodel = list(map(myfunc, x))\n",
    "\n",
    "plt.scatter(x, y)\n",
    "plt.plot(x, mymodel)\n",
    "plt.show()\n",
    "\n",
    "analyse_simple_linear_regression_r(greater_than_fifteen_to_twenty)"
   ]
  },
  {
   "cell_type": "markdown",
   "metadata": {},
   "source": [
    "### greater than twenty to twenty five"
   ]
  },
  {
   "cell_type": "code",
   "execution_count": 13,
   "metadata": {},
   "outputs": [
    {
     "data": {
      "image/png": "[encoded data removed]",
      "text/plain": [
       "<Figure size 432x288 with 1 Axes>"
      ]
     },
     "metadata": {
      "needs_background": "light"
     },
     "output_type": "display_data"
    },
    {
     "name": "stdout",
     "output_type": "stream",
     "text": [
      "-0.09706360125152529\n"
     ]
    }
   ],
   "source": [
    "# https://www.w3schools.com/python/python_ml_linear_regression.asp\n",
    "from matplotlib import pyplot as plt\n",
    "from scipy import stats\n",
    "import pandas as pd\n",
    "%matplotlib inline\n",
    "\n",
    "# Load a dataset.\n",
    "df = pd.read_csv('powerproduction.csv')\n",
    "\n",
    "# We are removing the non zero values\n",
    "cleansed_data_2 = df.loc[df['power'] > 0 ]\n",
    "\n",
    "greater_than_twenty_to_twenty_five = cleansed_data_2.loc[(cleansed_data_2['speed'] > 20) & (cleansed_data_2['speed']<= 24.498)]\n",
    "\n",
    "x = greater_than_twenty_to_twenty_five['speed'].tolist()\n",
    "y = greater_than_twenty_to_twenty_five['power'].tolist()\n",
    "\n",
    "slope, intercept, r, p, std_err = stats.linregress(x, y)\n",
    "\n",
    "def myfunc(x):\n",
    "  return slope * x + intercept\n",
    "\n",
    "mymodel = list(map(myfunc, x))\n",
    "\n",
    "plt.scatter(x, y)\n",
    "plt.plot(x, mymodel)\n",
    "plt.show()\n",
    "\n",
    "analyse_simple_linear_regression_r(greater_than_twenty_to_twenty_five)"
   ]
  },
  {
   "cell_type": "markdown",
   "metadata": {},
   "source": [
    "# Python script that runs a web service based on the model, as above."
   ]
  },
  {
   "cell_type": "markdown",
   "metadata": {},
   "source": [
    "To run the code above as a web service you will need to download from my github folder the contents of the folder called\n",
    "\n",
    "flask_web_project\n",
    "\n",
    "![flask_project](flask_project.png)\n",
    "\n",
    "\n",
    "**Navigate to the folder and run the following commands**\n",
    "\n",
    "**python -m venv venv <br>\n",
    ".\\venv\\scripts\\activate.bat <br>\n",
    "pip install -r requirements.txt <br>\n",
    "set FLASK_APP=app.py <br>\n",
    "flask run <br>**\n",
    "\n",
    "![flask_project](flask_project2.png)\n",
    "![flask_project](flask_project3.png)\n",
    "\n",
    "\n",
    "**Open web browser and go to url http://127.0.0.1:5000/**\n",
    "**Type in a number in the text box and click 'Submit' button to get the predicted energy from the wind speed**\n",
    "\n",
    "![flask_project](flask_project4.png)\n",
    "\n",
    "**The predicted energy from the wind speed will appear on the next screen, click 'Go Back' button to go to previous screen to try another value.**\n",
    "\n",
    "![flask_project](flask_project5.png)\n",
    "\n",
    "\n"
   ]
  },
  {
   "cell_type": "markdown",
   "metadata": {},
   "source": [
    "# Observation of the data\n",
    "\n",
    "Before beginning any data assignment, I like to have a look at the raw data. The goal of this assignment is to produce a model that accurately predicts wind turbine power output from wind speed values using the powerproduction.csv data.\n",
    "\n",
    "What does a cursory observation of the CSV data show us?\n",
    "To help the reader see what I am seeing, I have edited screenshots of the original raw dataset.\n",
    "\n",
    "![cursory_look_1](cursory_look_1.png)\n",
    "\n",
    "![cursory_look_2](cursory_look_2.png)\n",
    "\n",
    "![cursory_look_2a](cursory_look_2a.png)\n",
    "\n",
    "![cursory_look_3](cursory_look_3.png)\n",
    "\n",
    "Wind speeds below 0.325 and above 24.399 had no energy generated. \n",
    "\n",
    "I could only surmise from this, and from a discussion with someone else about the wind energy industry, is that wind turbines are not moving / turned off if wind speed is to too low or too high. Wind turbines can be turned off to reduce unneccessary wear and tear on machinery when speed is not adequate for producing enough energy or speed is dangerously too high.\n",
    "\n",
    "_If a wind turbine isn’t turning because it’s too windy, or not windy enough, the owner of the wind turbine does not get paid.\n",
    "https://www.scottishrenewables.com/news/576-blog-why-that-wind-turbine-isnt-turning\n",
    "\n",
    "_'Modern wind turbines are designed to shut off or slow their blades during high winds. If the blades turn too fast, it can cause the entire structure to become unstable and then disintegrate.https://www.wind-watch.org/news/2019/02/20/high-winds-topple-turbine/\n",
    "\n",
    "The solution I will make to approximately predict the likely energy output from wind speeds will require a solution that take into account the industry practice of turning the wind turbines off for high speeds and low speeds.\n",
    "\n",
    "This will require a data cleanse.\n",
    "\n",
    "Before I dive into doing a data cleanse, I will explain using the output of the Simple Linear Prediction model below some of the anomalies that will happen in Linear prediction without the data being cleansed."
   ]
  },
  {
   "cell_type": "markdown",
   "metadata": {},
   "source": [
    "# A Simple Linear Prediction Using User Input"
   ]
  },
  {
   "cell_type": "code",
   "execution_count": 14,
   "metadata": {},
   "outputs": [
    {
     "name": "stdout",
     "output_type": "stream",
     "text": [
      "DEMOSTRATION OF WHY LINEAR REGRESSION WITH UNCLEANSED DATA DOES NOT MAKE SENSE\n",
      "\n",
      "Predicted Energy Output for 0.325 mph winds\n",
      "-12.301684039263103\n",
      "compare with real data that says 4.331\n",
      "\n",
      "Predicted Energy Output for 2mph winds\n",
      "-4.064711299710282\n",
      "\n",
      "Predicted Energy Output for 24.399 mph winds\n",
      "106.08451400968889\n",
      "compare with real data that says 95.117\n",
      "\n",
      "Predicted Energy Output for 25 mph winds\n",
      "109.03998900459709\n",
      "\n",
      "Predicted Energy Output for 60 mph winds\n",
      "281.15583729376056\n"
     ]
    }
   ],
   "source": [
    "import sklearn.linear_model as lin\n",
    "import pandas as pd\n",
    "\n",
    "# Load a dataset.\n",
    "powerproduction = pd.read_csv('powerproduction.csv')\n",
    "\n",
    "def f(speed, p):\n",
    "    return p[0] + speed * p[1]\n",
    "\n",
    "def predict_power_output(speed):\n",
    "    return f(speed, p)\n",
    "\n",
    "speed = powerproduction[\"speed\"].to_numpy()\n",
    "y = powerproduction[\"power\"].to_numpy()\n",
    "\n",
    "speed = speed.reshape(-1, 1)\n",
    "\n",
    "model = lin.LinearRegression()\n",
    "model.fit(speed, y)\n",
    "r = model.score(speed, y)\n",
    "p = [model.intercept_, model.coef_[0]]\n",
    "\n",
    "predict_power_output(int(20))\n",
    "\n",
    "print('DEMOSTRATION OF WHY LINEAR REGRESSION WITH UNCLEANSED DATA DOES NOT MAKE SENSE')\n",
    "\n",
    "print('\\nPredicted Energy Output for 0.325 mph winds')\n",
    "print(predict_power_output(0.325))\n",
    "print('compare with real data that says 4.331')\n",
    "\n",
    "print('\\nPredicted Energy Output for 2mph winds')\n",
    "print(predict_power_output(2))\n",
    "\n",
    "print('\\nPredicted Energy Output for 24.399 mph winds')\n",
    "print(predict_power_output(24.399))\n",
    "print('compare with real data that says 95.117')\n",
    "\n",
    "print('\\nPredicted Energy Output for 25 mph winds')\n",
    "print(predict_power_output(25))\n",
    "\n",
    "print('\\nPredicted Energy Output for 60 mph winds')\n",
    "print(predict_power_output(60))"
   ]
  },
  {
   "cell_type": "markdown",
   "metadata": {},
   "source": [
    "# POLYNOMIAL REGRESSION"
   ]
  },
  {
   "cell_type": "code",
   "execution_count": 15,
   "metadata": {},
   "outputs": [
    {
     "name": "stdout",
     "output_type": "stream",
     "text": [
      "DEMOSTRATION OF WHY POLYNOMIAL REGRESSION WITH UNCLEANSED DATA DOES NOT MAKE SENSE\n",
      "\n",
      "Predicted Energy Output for 0.325 mph winds\n",
      "15.193218263880343\n",
      "compare with real data that says 4.331\n",
      "\n",
      "Predicted Energy Output for 2mph winds\n",
      "0.47566103178469277\n",
      "\n",
      "Predicted Energy Output for 24.399 mph winds\n",
      "70.04864611395982\n",
      "compare with real data that says 95.117\n",
      "\n",
      "Predicted Energy Output for 25 mph winds\n",
      "60.8647329444649\n",
      "\n",
      "Predicted Energy Output for 60 mph winds\n",
      "-5258.444843468935\n"
     ]
    }
   ],
   "source": [
    "import numpy\n",
    "from sklearn.metrics import r2_score\n",
    "\n",
    "df = pd.read_csv('powerproduction.csv')\n",
    "\n",
    "x = df[\"speed\"].to_numpy()\n",
    "y = df[\"power\"].to_numpy()\n",
    "\n",
    "predict_power_output = numpy.poly1d(numpy.polyfit(x, y, 3))\n",
    "\n",
    "\n",
    "\n",
    "print('DEMOSTRATION OF WHY POLYNOMIAL REGRESSION WITH UNCLEANSED DATA DOES NOT MAKE SENSE')\n",
    "\n",
    "print('\\nPredicted Energy Output for 0.325 mph winds')\n",
    "print(predict_power_output(0.325))\n",
    "print('compare with real data that says 4.331')\n",
    "\n",
    "print('\\nPredicted Energy Output for 2mph winds')\n",
    "print(predict_power_output(2))\n",
    "\n",
    "print('\\nPredicted Energy Output for 24.399 mph winds')\n",
    "print(predict_power_output(24.399))\n",
    "print('compare with real data that says 95.117')\n",
    "\n",
    "print('\\nPredicted Energy Output for 25 mph winds')\n",
    "print(predict_power_output(25))\n",
    "\n",
    "print('\\nPredicted Energy Output for 60 mph winds')\n",
    "print(predict_power_output(60))"
   ]
  },
  {
   "cell_type": "markdown",
   "metadata": {},
   "source": [
    "### An observation of the Seaborn graphs below, shows anomaly data away from the main group\n",
    "\n",
    "These anomalies cause distortions when trying to forecast."
   ]
  },
  {
   "cell_type": "code",
   "execution_count": 16,
   "metadata": {
    "scrolled": false
   },
   "outputs": [
    {
     "data": {
      "text/plain": [
       "<seaborn.axisgrid.PairGrid at 0x1611c2228b0>"
      ]
     },
     "execution_count": 16,
     "metadata": {},
     "output_type": "execute_result"
    },
    {
     "data": {
      "image/png": "[encoded data removed]",
      "text/plain": [
       "<Figure size 360x360 with 6 Axes>"
      ]
     },
     "metadata": {
      "needs_background": "light"
     },
     "output_type": "display_data"
    }
   ],
   "source": [
    "# Pick out two variables.\n",
    "import seaborn as sns\n",
    "sns.pairplot(powerproduction)"
   ]
  },
  {
   "cell_type": "markdown",
   "metadata": {},
   "source": [
    "### Building in a control for low and high wind speeds\n",
    "We know for a fact that 2mph winds can generate energy, see speeds between 0.3 and 3 generating energy, yet the above zero days distort the machine learning output\n",
    "Not all results from a linear machine learning analysis of the data make sense\n",
    "\n",
    "**predict_power_output(60)\n",
    "For example a simple analysis of wind speed of 60 miles an hour would return an energy output of 281.155\n",
    "\n",
    "We already know from a cursory look of the csv data, that no energy is produced from speeds above 24.399.\n",
    "**We handle wind speeds above 24.399 with an if statement to return 0 energy output.**\n",
    "\n",
    "**predict_power_output(2)\n",
    "Another example of wind speed of 2 miles an hour, a simple analysis would return a negative energy output of -4.064\n",
    "\n",
    "\n",
    "**We handle wind speeds of below 0.325 with an if statement to return 0 energy output**, as there is no evidence on the CSV file that the wind turbine consumes energy and generates negative energy values for low wind speeds.\n",
    "\n",
    "The reader might query why the linear machine learning module in Python returns a negative energy value of -4.064 for a wind speed of 2mph, when there is wind speed data as low as 0.325 generating power. Typically turbines are able to generate electricity in winds of about 7mph https://www.scottishrenewables.com/news/576-blog-why-that-wind-turbine-isnt-turning However our CSV data indicates that these turbines can generate power from speeds as low as 0.325\n",
    "\n",
    "The energy data that the wind turbine produces can be distorted by the fact that the owner of the wind turbine may have chosen to turn the wind turbine off on certain days, this could be for three reasons: 1) They’re being maintained, or need maintenance\n",
    "2) It’s not windy enough for them to operate at all, or too windy for them to operate 3) There is no demand on the grid for the supply of the energy.\n",
    "\n",
    "![cursory_look_3](cursory_look_3.png)\n",
    "\n",
    "\n",
    "We do not know the reasons why no energy was generated on these windy days where wind speed was above 0.325 To have an accurate machine learning model, *it is my opinion* that you would strip out the days that the wind turbines were turned off for maintenance or because there was no demand for energy, as this data detracts from being able to accurately predict energy than can be produced from wind speed. \n",
    "\n",
    "While it is my opinion that the zero value anomaly days should be stripped out, other people may take a more holistic view to predicting power from the data provided, for example if people are interested in what the energy may be generated over a year, it would be reasonable to leave in the anomaly data, over a year there will be maintenance days.\n",
    "\n",
    "However my machine learning algorithm is built to predict what energy will be generated on a single day when the machinery is working properly, it is not a holistic approach over a period of time that allows for days that the machinery may not be working.\n",
    "\n",
    "\n",
    "![Zero Power Days](zero_power_days.png)\n"
   ]
  },
  {
   "cell_type": "markdown",
   "metadata": {},
   "source": [
    "# Cleansing The Data And Building Controls Into The Code"
   ]
  },
  {
   "cell_type": "code",
   "execution_count": 17,
   "metadata": {},
   "outputs": [
    {
     "name": "stdout",
     "output_type": "stream",
     "text": [
      "            speed       power\n",
      "count  500.000000  500.000000\n",
      "mean    12.590398   48.014584\n",
      "std      7.224991   41.614572\n",
      "min      0.000000    0.000000\n",
      "25%      6.324750    5.288000\n",
      "50%     12.550500   41.645500\n",
      "75%     18.775250   93.537000\n",
      "max     25.000000  113.556000\n",
      "   speed  power\n",
      "0  0.000    0.0\n",
      "1  0.125    0.0\n",
      "2  0.150    0.0\n",
      "3  0.225    0.0\n",
      "4  0.275    0.0\n"
     ]
    }
   ],
   "source": [
    "import pandas as pd\n",
    "\n",
    "# Load a dataset.\n",
    "powerproduction = pd.read_csv('powerproduction.csv')\n",
    "\n",
    "print(powerproduction.describe())\n",
    "\n",
    "print(powerproduction.head())"
   ]
  },
  {
   "cell_type": "code",
   "execution_count": 18,
   "metadata": {},
   "outputs": [
    {
     "name": "stdout",
     "output_type": "stream",
     "text": [
      "   speed  power\n",
      "0  0.000    0.0\n",
      "1  0.125    0.0\n",
      "2  0.150    0.0\n",
      "3  0.225    0.0\n",
      "4  0.275    0.0\n",
      "   speed  power\n",
      "5  0.325  4.331\n",
      "6  0.400  5.186\n",
      "7  0.450  3.826\n",
      "8  0.501  1.048\n",
      "9  0.526  5.553\n",
      "      speed  power\n",
      "490  24.499    0.0\n",
      "491  24.525    0.0\n",
      "492  24.575    0.0\n",
      "493  24.650    0.0\n",
      "494  24.750    0.0\n"
     ]
    }
   ],
   "source": [
    "cleansed_data_1 = powerproduction.loc[powerproduction['speed'] < 0.325 ]\n",
    "cleansed_data_2 = powerproduction.loc[powerproduction['power'] > 0 ]\n",
    "cleansed_data_3 = powerproduction.loc[powerproduction['speed'] > 24.399 ]\n",
    "\n",
    "print(cleansed_data_1.head())\n",
    "print(cleansed_data_2.head())\n",
    "print(cleansed_data_3.head())\n",
    "\n"
   ]
  },
  {
   "cell_type": "code",
   "execution_count": 19,
   "metadata": {},
   "outputs": [
    {
     "name": "stdout",
     "output_type": "stream",
     "text": [
      "      speed  power\n",
      "0     0.000    0.0\n",
      "1     0.125    0.0\n",
      "2     0.150    0.0\n",
      "3     0.225    0.0\n",
      "4     0.275    0.0\n",
      "..      ...    ...\n",
      "495  24.775    0.0\n",
      "496  24.850    0.0\n",
      "497  24.875    0.0\n",
      "498  24.950    0.0\n",
      "499  25.000    0.0\n",
      "\n",
      "[466 rows x 2 columns]\n"
     ]
    }
   ],
   "source": [
    "# https://pandas.pydata.org/pandas-docs/stable/user_guide/merging.html\n",
    "\n",
    "frames = [cleansed_data_1, cleansed_data_2, cleansed_data_3]\n",
    "\n",
    "result = pd.concat(frames)\n",
    "\n",
    "print(result)"
   ]
  },
  {
   "cell_type": "markdown",
   "metadata": {},
   "source": [
    "### Observe the seaborn graph below, which now has less anomalies following the data cleanse"
   ]
  },
  {
   "cell_type": "code",
   "execution_count": 20,
   "metadata": {},
   "outputs": [
    {
     "data": {
      "text/plain": [
       "<seaborn.axisgrid.PairGrid at 0x1611c7a4f40>"
      ]
     },
     "execution_count": 20,
     "metadata": {},
     "output_type": "execute_result"
    },
    {
     "data": {
      "image/png": "[encoded data removed]",
      "text/plain": [
       "<Figure size 360x360 with 6 Axes>"
      ]
     },
     "metadata": {
      "needs_background": "light"
     },
     "output_type": "display_data"
    }
   ],
   "source": [
    "# Pick out two variables.\n",
    "import seaborn as sns\n",
    "sns.pairplot(result)"
   ]
  },
  {
   "cell_type": "markdown",
   "metadata": {},
   "source": [
    "Instead of powerproduction variable being referenced to powerproduction.csv, we now shall reference it to the cleansed data result"
   ]
  },
  {
   "cell_type": "code",
   "execution_count": 21,
   "metadata": {},
   "outputs": [
    {
     "name": "stdout",
     "output_type": "stream",
     "text": [
      "NEW PREDICTIONS WITH ZERO VALUE ANOMALIES CLEANSED\n",
      "\n",
      "Predicted Energy Output for 0.325 mph winds\n",
      "-12.054459858746995\n",
      "compare with real data that says 4.331\n",
      "\n",
      "Predicted Energy Output for 2mph winds\n",
      "-3.7311282224516304\n",
      "\n",
      "Predicted Energy Output for 24.399 mph winds\n",
      "107.57293465598411\n",
      "compare with real data that says 95.117\n",
      "\n",
      "Predicted Energy Output for 60 mph winds\n",
      "284.47975828807444\n"
     ]
    }
   ],
   "source": [
    "import sklearn.linear_model as lin\n",
    "import pandas as pd\n",
    "\n",
    "# Load a dataset.\n",
    "powerproduction = result\n",
    "\n",
    "def f(speed, p):\n",
    "    return p[0] + speed * p[1]\n",
    "\n",
    "def predict_power_output_b(speed):\n",
    "    return f(speed, p)\n",
    "\n",
    "speed = powerproduction[\"speed\"].to_numpy()\n",
    "y = powerproduction[\"power\"].to_numpy()\n",
    "\n",
    "speed = speed.reshape(-1, 1)\n",
    "\n",
    "model = lin.LinearRegression()\n",
    "model.fit(speed, y)\n",
    "r = model.score(speed, y)\n",
    "p = [model.intercept_, model.coef_[0]]\n",
    "\n",
    "predict_power_output(int(20))\n",
    "\n",
    "print('NEW PREDICTIONS WITH ZERO VALUE ANOMALIES CLEANSED')\n",
    "\n",
    "print('\\nPredicted Energy Output for 0.325 mph winds')\n",
    "print(predict_power_output_b(0.325))\n",
    "print('compare with real data that says 4.331')\n",
    "\n",
    "print('\\nPredicted Energy Output for 2mph winds')\n",
    "print(predict_power_output_b(2))\n",
    "\n",
    "print('\\nPredicted Energy Output for 24.399 mph winds')\n",
    "print(predict_power_output_b(24.399))\n",
    "print('compare with real data that says 95.117')\n",
    "\n",
    "print('\\nPredicted Energy Output for 60 mph winds')\n",
    "print(predict_power_output_b(60))"
   ]
  },
  {
   "cell_type": "markdown",
   "metadata": {},
   "source": [
    "Even with the zero anomalies cleansed from the data set there are still issues with the linear regression forecasting.\n",
    "\n",
    "Predicted Energy Output for 0.325 mph winds\n",
    "-12.054459858746995\n",
    "compare with real data that says 4.331\n",
    "\n",
    "Predicted Energy Output for 2mph winds\n",
    "-3.7311282224516304\n",
    "\n",
    "Predicted Energy Output for 24.399 mph winds\n",
    "107.57293465598411\n",
    "compare with real data that says 95.117\n",
    "\n",
    "One way to deal with this, I believe is to remove all zero value data from the set."
   ]
  },
  {
   "cell_type": "code",
   "execution_count": 22,
   "metadata": {},
   "outputs": [
    {
     "name": "stdout",
     "output_type": "stream",
     "text": [
      "   speed  power\n",
      "5  0.325  4.331\n",
      "6  0.400  5.186\n",
      "7  0.450  3.826\n",
      "8  0.501  1.048\n",
      "9  0.526  5.553\n"
     ]
    }
   ],
   "source": [
    "cleansed_data_2 = powerproduction.loc[powerproduction['power'] > 0 ]\n",
    "print(cleansed_data_2.head())"
   ]
  },
  {
   "cell_type": "code",
   "execution_count": 23,
   "metadata": {},
   "outputs": [
    {
     "name": "stdout",
     "output_type": "stream",
     "text": [
      "NEW PREDICTIONS WITH ALL ZERO VALUES REMOVED\n",
      "\n",
      "Predicted Energy Output for 0.325 mph winds\n",
      "-18.01156640483037\n",
      "compare with real data that says 4.331\n",
      "\n",
      "Predicted Energy Output for 2mph winds\n",
      "-8.600029776551313\n",
      "\n",
      "Predicted Energy Output for 24.399 mph winds\n",
      "117.25609496185024\n",
      "compare with real data that says 95.117\n",
      "\n",
      "Predicted Energy Output for 60 mph winds\n",
      "317.29198481460406\n"
     ]
    }
   ],
   "source": [
    "import sklearn.linear_model as lin\n",
    "import pandas as pd\n",
    "\n",
    "# Load a dataset.\n",
    "powerproduction = cleansed_data_2\n",
    "\n",
    "def f(speed, p):\n",
    "    return p[0] + speed * p[1]\n",
    "\n",
    "def predict_power_output_b(speed):\n",
    "    return f(speed, p)\n",
    "\n",
    "speed = powerproduction[\"speed\"].to_numpy()\n",
    "y = powerproduction[\"power\"].to_numpy()\n",
    "\n",
    "speed = speed.reshape(-1, 1)\n",
    "\n",
    "model = lin.LinearRegression()\n",
    "model.fit(speed, y)\n",
    "r = model.score(speed, y)\n",
    "p = [model.intercept_, model.coef_[0]]\n",
    "\n",
    "\n",
    "\n",
    "print('NEW PREDICTIONS WITH ALL ZERO VALUES REMOVED')\n",
    "\n",
    "print('\\nPredicted Energy Output for 0.325 mph winds')\n",
    "print(predict_power_output_b(0.325))\n",
    "print('compare with real data that says 4.331')\n",
    "\n",
    "print('\\nPredicted Energy Output for 2mph winds')\n",
    "print(predict_power_output_b(2))\n",
    "\n",
    "print('\\nPredicted Energy Output for 24.399 mph winds')\n",
    "print(predict_power_output_b(24.399))\n",
    "print('compare with real data that says 95.117')\n",
    "\n",
    "print('\\nPredicted Energy Output for 60 mph winds')\n",
    "print(predict_power_output_b(60))"
   ]
  },
  {
   "cell_type": "markdown",
   "metadata": {},
   "source": [
    "The predictions above still seem wildly out. I am not as concerned that the predicted energy output for 24.399 mph winds is\n",
    "117.25609496185024 compared with real data that says 95.117, as there can be energy production surges, even with close ranges.\n",
    "\n",
    "![Energy Surges](EnergySurges.png)\n",
    "\n",
    "My theory is that these energy surges that occur in the higher ranges of wind speed numbers, mean that predicting energy output across the lower and mid range of wind speed numbers can be distorted when using the linear model across a large range of numbers.\n",
    "\n",
    "So next I will try and make linear predictions on wind speeds using data between \n",
    "\n",
    "0 - 5 mph , \n",
    "'> 5 - 10 mph\n",
    "'> 10 - 15 mph\n",
    "'>15 - 20 mph\n",
    "'>20 - 25 mph\n",
    "\n",
    "So if a user inputs a wind speed between 0 - 5 mph, it will get a linear prediction from wind speed betwween 0 and 5.\n",
    "\n",
    "\n",
    "\n"
   ]
  },
  {
   "cell_type": "code",
   "execution_count": 24,
   "metadata": {},
   "outputs": [
    {
     "name": "stdout",
     "output_type": "stream",
     "text": [
      "With pandas filters we are able to filter data to just analyse power outputs between 0-5mph wind speeds\n",
      "    speed   power\n",
      "5   0.325   4.331\n",
      "6   0.400   5.186\n",
      "7   0.450   3.826\n",
      "8   0.501   1.048\n",
      "9   0.526   5.553\n",
      "..    ...     ...\n",
      "88  4.780  10.444\n",
      "90  4.905   7.060\n",
      "91  4.930   0.946\n",
      "92  4.955   1.907\n",
      "93  4.980   1.681\n",
      "\n",
      "[68 rows x 2 columns]\n",
      "Next we shall try and predict the power produced from a 2mph wind speed\n",
      "NEW PREDICTIONS WITH ALL ZERO VALUES REMOVED AND JUST FILTERING ON WIND SPEEDS BETWEEN 0 - 5 MPH\n",
      "\n",
      "Predicted Energy Output for 0.325 mph winds\n",
      "4.290517451330689\n",
      "compare with real data that says 4.331\n",
      "\n",
      "Predicted Energy Output for 2mph winds\n",
      "4.223299740164377\n"
     ]
    }
   ],
   "source": [
    "import pandas as pd\n",
    "\n",
    "# Load a dataset.\n",
    "powerproduction = pd.read_csv('powerproduction.csv')\n",
    "\n",
    "# We are removing the non zero values\n",
    "cleansed_data_2 = powerproduction.loc[powerproduction['power'] > 0 ]\n",
    "\n",
    "# filtering between values https://stackoverflow.com/questions/29370057/select-dataframe-rows-between-two-dates\n",
    "\n",
    "zero_to_five = cleansed_data_2.loc[(cleansed_data_2['speed'] > 0) & (cleansed_data_2['speed']< 5)]\n",
    "greater_than_five_to_ten = cleansed_data_2.loc[(cleansed_data_2['speed'] > 5) & (cleansed_data_2['speed']< 10)]\n",
    "greater_than_ten_to_fifteen = cleansed_data_2.loc[(cleansed_data_2['speed'] > 10) & (cleansed_data_2['speed']< 15)]\n",
    "greater_than_fifteen_to_twenty = cleansed_data_2.loc[(cleansed_data_2['speed'] > 15) & (cleansed_data_2['speed']< 20)]\n",
    "greater_than_twenty_to_twenty_five = cleansed_data_2.loc[(cleansed_data_2['speed'] > 20) & (cleansed_data_2['speed']< 25)]\n",
    "\n",
    "print('With pandas filters we are able to filter data to just analyse power outputs between 0-5mph wind speeds')\n",
    "print(zero_to_five)\n",
    "print('Next we shall try and predict the power produced from a 2mph wind speed')\n",
    "\n",
    "\n",
    "import sklearn.linear_model as lin\n",
    "import pandas as pd\n",
    "\n",
    "# Load a dataset.\n",
    "powerproduction = zero_to_five # analysing power production from 0 - 5 mph wind speeds only\n",
    "\n",
    "def f(speed, p):\n",
    "    return p[0] + speed * p[1]\n",
    "\n",
    "def predict_power_output_b(speed):\n",
    "    return f(speed, p)\n",
    "\n",
    "speed = powerproduction[\"speed\"].to_numpy()\n",
    "y = powerproduction[\"power\"].to_numpy()\n",
    "\n",
    "speed = speed.reshape(-1, 1)\n",
    "\n",
    "model = lin.LinearRegression()\n",
    "model.fit(speed, y)\n",
    "r = model.score(speed, y)\n",
    "p = [model.intercept_, model.coef_[0]]\n",
    "\n",
    "\n",
    "\n",
    "print('NEW PREDICTIONS WITH ALL ZERO VALUES REMOVED AND JUST FILTERING ON WIND SPEEDS BETWEEN 0 - 5 MPH')\n",
    "\n",
    "print('\\nPredicted Energy Output for 0.325 mph winds')\n",
    "print(predict_power_output_b(0.325))\n",
    "print('compare with real data that says 4.331')\n",
    "\n",
    "print('\\nPredicted Energy Output for 2mph winds')\n",
    "print(predict_power_output_b(2))\n",
    "\n"
   ]
  },
  {
   "cell_type": "code",
   "execution_count": 25,
   "metadata": {},
   "outputs": [
    {
     "name": "stdout",
     "output_type": "stream",
     "text": [
      "With pandas filters we are able to filter data to just analyse power outputs between 20-25mph wind speeds\n",
      "      speed    power\n",
      "403  20.045   99.697\n",
      "405  20.120   89.078\n",
      "406  20.145   99.029\n",
      "407  20.170   96.963\n",
      "408  20.220  101.507\n",
      "..      ...      ...\n",
      "485  24.249  103.700\n",
      "486  24.299   93.694\n",
      "487  24.349   93.078\n",
      "488  24.374   98.223\n",
      "489  24.399   95.117\n",
      "\n",
      "[85 rows x 2 columns]\n",
      "Next we shall try and predict the power produced from a 24.399 mph wind speed\n",
      "NEW PREDICTIONS WITH ALL ZERO VALUES REMOVED AND JUST FILTERING ON WIND SPEEDS BETWEEN 20 - 25 MPH\n",
      "\n",
      "Predicted Energy Output for 24.399 mph winds\n",
      "98.86284886113515\n",
      "compare with real data that says 95.117\n"
     ]
    }
   ],
   "source": [
    "import pandas as pd\n",
    "\n",
    "# Load a dataset.\n",
    "powerproduction = pd.read_csv('powerproduction.csv')\n",
    "\n",
    "# We are removing the non zero values\n",
    "cleansed_data_2 = powerproduction.loc[powerproduction['power'] > 0 ]\n",
    "\n",
    "# filtering between values https://stackoverflow.com/questions/29370057/select-dataframe-rows-between-two-dates\n",
    "\n",
    "zero_to_five = cleansed_data_2.loc[(cleansed_data_2['speed'] > 0) & (cleansed_data_2['speed']< 5)]\n",
    "greater_than_five_to_ten = cleansed_data_2.loc[(cleansed_data_2['speed'] > 5) & (cleansed_data_2['speed']< 10)]\n",
    "greater_than_ten_to_fifteen = cleansed_data_2.loc[(cleansed_data_2['speed'] > 10) & (cleansed_data_2['speed']< 15)]\n",
    "greater_than_fifteen_to_twenty = cleansed_data_2.loc[(cleansed_data_2['speed'] > 15) & (cleansed_data_2['speed']< 20)]\n",
    "greater_than_twenty_to_twenty_five = cleansed_data_2.loc[(cleansed_data_2['speed'] > 20) & (cleansed_data_2['speed']< 25)]\n",
    "\n",
    "print('With pandas filters we are able to filter data to just analyse power outputs between 20-25mph wind speeds')\n",
    "print(greater_than_twenty_to_twenty_five)\n",
    "print('Next we shall try and predict the power produced from a 24.399 mph wind speed')\n",
    "\n",
    "\n",
    "import sklearn.linear_model as lin\n",
    "import pandas as pd\n",
    "\n",
    "# Load a dataset.\n",
    "powerproduction = greater_than_twenty_to_twenty_five # analysing power production from 20 - 25 mph wind speeds only\n",
    "\n",
    "def f(speed, p):\n",
    "    return p[0] + speed * p[1]\n",
    "\n",
    "def predict_power_output_b(speed):\n",
    "    return f(speed, p)\n",
    "\n",
    "speed = powerproduction[\"speed\"].to_numpy()\n",
    "y = powerproduction[\"power\"].to_numpy()\n",
    "\n",
    "speed = speed.reshape(-1, 1)\n",
    "\n",
    "model = lin.LinearRegression()\n",
    "model.fit(speed, y)\n",
    "r = model.score(speed, y)\n",
    "p = [model.intercept_, model.coef_[0]]\n",
    "\n",
    "\n",
    "\n",
    "print('NEW PREDICTIONS WITH ALL ZERO VALUES REMOVED AND JUST FILTERING ON WIND SPEEDS BETWEEN 20 - 25 MPH')\n",
    "\n",
    "print('\\nPredicted Energy Output for 24.399 mph winds')\n",
    "print(predict_power_output_b(24.399))\n",
    "print('compare with real data that says 95.117')\n"
   ]
  },
  {
   "cell_type": "markdown",
   "metadata": {},
   "source": [
    "The predicted energy output in now much closer to the real data."
   ]
  },
  {
   "cell_type": "markdown",
   "metadata": {},
   "source": [
    "# 2. Python script that runs a web service based on the model, as above.\n",
    "# A Simple Flask Application Adapting The Above Code\n",
    "\n",
    "To run the script below I have created a file called app.py This is a Python Application which uses FLASK and uses the method POST to request information from a HTML form.\n",
    "\n",
    "I reference my question on Stackoverflow \n",
    "https://stackoverflow.com/questions/64443057/how-do-i-use-flask-to-return-results-of-a-function-to-web-page\n",
    "\n",
    "also a similar solution using FLASK and the post method here\n",
    "https://stackoverflow.com/questions/12277933/send-data-from-a-textbox-into-flask\n",
    "\n",
    "Using the above references for how to use FLASK, and an adaption of Ian's demonstration of Linear prediction, I was able to make up the follow code."
   ]
  },
  {
   "cell_type": "markdown",
   "metadata": {},
   "source": [
    "# CODE USED FOR FLASK app.py"
   ]
  },
  {
   "cell_type": "code",
   "execution_count": 26,
   "metadata": {},
   "outputs": [
    {
     "data": {
      "image/png": "[encoded data removed]",
      "text/plain": [
       "<Figure size 360x360 with 6 Axes>"
      ]
     },
     "metadata": {
      "needs_background": "light"
     },
     "output_type": "display_data"
    }
   ],
   "source": [
    "import sklearn.linear_model as lin\n",
    "import pandas as pd\n",
    "import matplotlib\n",
    "import matplotlib.pyplot as plt\n",
    "import seaborn as sns\n",
    "\n",
    "# Load a dataset.\n",
    "mygraphdata = pd.read_csv('powerproduction.csv')\n",
    "\n",
    "#https://github.com/ianmcloughlin/jupyter-teaching-notebooks/blob/master/models.ipynb\n",
    "#https://stackoverflow.com/questions/30336324/seaborn-load-dataset\n",
    "#https://chartio.com/resources/tutorials/how-to-save-a-plot-to-a-file-using-matplotlib/\n",
    "\n",
    "\n",
    "#https://stackoverflow.com/questions/32244753/how-to-save-a-seaborn-plot-into-a-file\n",
    "sns_plot = sns.pairplot(mygraphdata)\n",
    "sns_plot.savefig('static/images/plot.png')\n",
    "\n",
    "\n",
    "import algorithm_for_wind_speed #uses algorithms from algorithm_for_wind_speed.py\n",
    "\n",
    "\n",
    "from flask import Flask, request, render_template\n",
    "\n",
    "app = Flask(__name__)\n",
    "\n",
    "@app.route('/')\n",
    "def my_form():\n",
    "    return render_template('my-form.html')\n",
    "\n",
    "@app.route('/', methods=['POST'])\n",
    "def my_form_post():\n",
    "    text = request.form['text']\n",
    "    return \"\"\" \n",
    "    <style>\n",
    "    table.blueTable {\n",
    "  border: 1px solid #1C6EA4;\n",
    "  background-color: #EEEEEE;\n",
    "  width: 100%;\n",
    "  text-align: left;\n",
    "  border-collapse: collapse;\n",
    "}\n",
    "table.blueTable td, table.blueTable th {\n",
    "  border: 1px solid #AAAAAA;\n",
    "  padding: 3px 2px;\n",
    "}\n",
    "table.blueTable tbody td {\n",
    "  font-size: 13px;\n",
    "}\n",
    "table.blueTable tr:nth-child(even) {\n",
    "  background: #D0E4F5;\n",
    "}\n",
    "table.blueTable thead {\n",
    "  background: #1C6EA4;\n",
    "  background: -moz-linear-gradient(top, #5592bb 0%, #327cad 66%, #1C6EA4 100%);\n",
    "  background: -webkit-linear-gradient(top, #5592bb 0%, #327cad 66%, #1C6EA4 100%);\n",
    "  background: linear-gradient(to bottom, #5592bb 0%, #327cad 66%, #1C6EA4 100%);\n",
    "  border-bottom: 2px solid #444444;\n",
    "}\n",
    "table.blueTable thead th {\n",
    "  font-size: 15px;\n",
    "  font-weight: bold;\n",
    "  color: #FFFFFF;\n",
    "  border-left: 2px solid #D0E4F5;\n",
    "}\n",
    "table.blueTable thead th:first-child {\n",
    "  border-left: none;\n",
    "}\n",
    "\n",
    "table.blueTable tfoot {\n",
    "  font-size: 14px;\n",
    "  font-weight: bold;\n",
    "  color: #FFFFFF;\n",
    "  background: #D0E4F5;\n",
    "  background: -moz-linear-gradient(top, #dcebf7 0%, #d4e6f6 66%, #D0E4F5 100%);\n",
    "  background: -webkit-linear-gradient(top, #dcebf7 0%, #d4e6f6 66%, #D0E4F5 100%);\n",
    "  background: linear-gradient(to bottom, #dcebf7 0%, #d4e6f6 66%, #D0E4F5 100%);\n",
    "  border-top: 2px solid #444444;\n",
    "}\n",
    "table.blueTable tfoot td {\n",
    "  font-size: 14px;\n",
    "}\n",
    "table.blueTable tfoot .links {\n",
    "  text-align: right;\n",
    "}\n",
    "table.blueTable tfoot .links a{\n",
    "  display: inline-block;\n",
    "  background: #1C6EA4;\n",
    "  color: #FFFFFF;\n",
    "  padding: 2px 8px;\n",
    "  border-radius: 5px;\n",
    "}\n",
    "</style>   \n",
    "    \n",
    "    <img src=\"static/images/Wind_turbine_Holderness.jpg\" alt=\"https://commons.wikimedia.org/wiki/File:Wind_turbine_Holderness.jpg\">\n",
    "    <table class=\"blueTable\"><thead><tr><th><centre>Predict Energy Output From Wind Speed of \"\"\" + text + \"\"\" mph</centre></th></tr></thead><tbody><tr><td>\"\"\" + str(algorithm_for_wind_speed.receive_text_from_form(float(text))) + \"\"\" </td></tr></tbody></tr></table>\n",
    "    <img src=\"static/images/plot.png\" alt=\"A Matplotlibplot\">\n",
    "    <button onclick=\"goBack()\">Go Back</button>\n",
    "\n",
    "<script>\n",
    "function goBack() {\n",
    "  window.history.back();\n",
    "}\n",
    "</script>\n",
    "    \"\"\" \n"
   ]
  },
  {
   "cell_type": "markdown",
   "metadata": {},
   "source": [
    "\n",
    "# CODE USED FOR FLASK ALGORITHM algorithm_for_wind_speed.py"
   ]
  },
  {
   "cell_type": "code",
   "execution_count": 27,
   "metadata": {},
   "outputs": [],
   "source": [
    "import sklearn.linear_model as lin\n",
    "import pandas as pd\n",
    "\n",
    "def do_linear_regression(data,text):\n",
    "\n",
    "    # Load a dataset.\n",
    "    text = text\n",
    "    powerproduction = data\n",
    "    def f(speed, p):\n",
    "        return p[0] + speed * p[1]\n",
    "\n",
    "    def predict_power_output(speed):\n",
    "        return round(f(speed, p),2)\n",
    "\n",
    "    speed = powerproduction[\"speed\"].to_numpy()\n",
    "    y = powerproduction[\"power\"].to_numpy()\n",
    "\n",
    "    speed = speed.reshape(-1, 1)\n",
    "\n",
    "    model = lin.LinearRegression()\n",
    "    model.fit(speed, y)\n",
    "    r = model.score(speed, y)\n",
    "    p = [model.intercept_, model.coef_[0]]\n",
    "\n",
    "    return(predict_power_output(float(text)))\n",
    "\n",
    "# Load a dataset.\n",
    "df = pd.read_csv('powerproduction.csv')\n",
    "\n",
    "# We are removing the non zero values\n",
    "cleansed_data_2 = df.loc[df['power'] > 0 ]\n",
    "\n",
    "# filtering between values see https://stackoverflow.com/questions/29370057/select-dataframe-rows-between-two-dates\n",
    "\n",
    "\n",
    "\n",
    "# If a user types wind speeds lower than 0.275 or equal higher than 24.499, it will be handled with an if statement and return 0\n",
    "\n",
    "def receive_text_from_form(text):\n",
    "    text = text\n",
    "    if text <= 0.275:\n",
    "        return 0\n",
    "\n",
    "    if text >= 24.499:\n",
    "        return 0\n",
    "\n",
    "\n",
    "    #if a user inputs a wind speed between 0 - 5 mph, they will get a linear prediction from wind speed data betwween 0 and 5 mph.\n",
    "\n",
    "    if text > 0.275 and text <= 5:\n",
    "        zero_to_five = cleansed_data_2.loc[(cleansed_data_2['speed'] > 0.275) & (cleansed_data_2['speed']<= 5)]\n",
    "        return do_linear_regression(zero_to_five,text)\n",
    "\n",
    "\n",
    "    #if a user inputs a wind speed between 5 - 10 mph, they will get a linear prediction from wind speed data betwween 5 and 10 mph.\n",
    "\n",
    "    if text > 5 and text <= 10:\n",
    "        greater_than_five_to_ten = cleansed_data_2.loc[(cleansed_data_2['speed'] > 5) & (cleansed_data_2['speed']<= 10)]\n",
    "        return do_linear_regression(greater_than_five_to_ten,text)\n",
    "\n",
    "\n",
    "    #if a user inputs a wind speed between 10 - 15 mph, they will get a linear prediction from wind speed data betwween 10 and 15 mph.\n",
    "        \n",
    "    if text > 10 and text <= 15:\n",
    "        greater_than_ten_to_fifteen = cleansed_data_2.loc[(cleansed_data_2['speed'] > 10) & (cleansed_data_2['speed']<= 15)]\n",
    "        return do_linear_regression(greater_than_ten_to_fifteen,text)\n",
    "\n",
    "    #if a user inputs a wind speed between 15 - 20 mph, they will get a linear prediction from wind speed data betwween 15 and 20 mph.\n",
    "\n",
    "    if text > 15 and text <= 20:\n",
    "        greater_than_fifteen_to_twenty = cleansed_data_2.loc[(cleansed_data_2['speed'] > 15) & (cleansed_data_2['speed']<= 20)]\n",
    "        return do_linear_regression(greater_than_fifteen_to_twenty,text)\n",
    "\n",
    "        #if a user inputs a wind speed between 20 - 25 mph, they will get a linear prediction from wind speed data betwween 20 and 25 mph.\n",
    "\n",
    "    if text > 20 and text <= 24.498:\n",
    "        greater_than_twenty_to_twenty_five = cleansed_data_2.loc[(cleansed_data_2['speed'] > 20) & (cleansed_data_2['speed']<= 24.498)]\n",
    "        return do_linear_regression(greater_than_twenty_to_twenty_five,text)\n"
   ]
  },
  {
   "cell_type": "markdown",
   "metadata": {},
   "source": [
    "### Creating the server\n",
    "\n",
    "python -m venv venv<br>\n",
    ".\\venv\\Scripts\\activate.bat<br>\n",
    "pip install pandas<br>\n",
    "pip install numpy<br>\n",
    "pip install scikit-learn<br>\n",
    "pip install flask<br>\n",
    "pip freeze<br>\n",
    "pip freeze > requirements.txt<br>\n",
    "set FLASK_APP=app.py<br>\n",
    "flask run<br>"
   ]
  },
  {
   "cell_type": "markdown",
   "metadata": {},
   "source": [
    "### Running again\n",
    "\n",
    "python -m venv venv<br>\n",
    ".\\venv\\scripts\\activate.bat<br>\n",
    "pip install -r requirements.txt<br>\n",
    "set FLASK_APP=app.py<br>\n",
    "flask run<br>"
   ]
  },
  {
   "cell_type": "markdown",
   "metadata": {},
   "source": [
    "# 3. Dockerfile to build and run the web service in a container.\n",
    "\n",
    "\n",
    "My folder contains two files to run the flask web project\n",
    "\n",
    "\n",
    "**flask_web_project_Ian_McLoughlin_Docker_Example**\n",
    "This contains Dockerfile, dockerignore that I created after watching Ian's McLoughlin's video https://web.microsoftstream.com/video/03bfee62-fdeb-4dbe-a7d2-393d1aa40b66\n",
    "34min 21second in\n",
    "\n",
    "**flask_web_project_Freelancer_Docker_Example**\n",
    "This contains Dockerfile that I got a Freelancer to help me with before watching Ian's video because I was unable to install the docker download (see error screenshots below)\n",
    "\n",
    "I initially read  the following information on https://docs.docker.com/compose/gettingstarted/\n",
    "\n",
    "> Create a Dockerfile\n",
    "In this step, you write a Dockerfile that builds a Docker image. The image contains all the dependencies the Python application requires, including Python itself.\n",
    "\n",
    "> In your project directory, create a file named Dockerfile and paste the following:\n",
    "\n",
    ">FROM python:3.7-alpine <br>\n",
    "WORKDIR /code <br>\n",
    "ENV FLASK_APP=app.py <br>\n",
    "ENV FLASK_RUN_HOST=0.0.0.0 <br>\n",
    "RUN apk add --no-cache gcc musl-dev linux-headers <br>\n",
    "COPY requirements.txt requirements.txt <br>\n",
    "RUN pip install -r requirements.txt <br>\n",
    "EXPOSE 5000 <br>\n",
    "COPY . . <br>\n",
    "CMD [\"flask\", \"run\"] <br>\n",
    "\n",
    "However there were some things that I was not really clear on in my understanding because of references to 'python:3.7-alpine' and 'RUN apk add --no-cache gcc musl-dev linux-headers'.\n",
    "I don't work with a linux system and only have a vague recollection familiarity of it, I also didn't understand the suffix alpine added after Python.\n",
    "\n",
    "After I have navigated to the folder where my flask project is contained, this is how I currently run the web service from the command line in Windows\n",
    "\n",
    "python -m venv venv\n",
    ".\\venv\\Scripts\\activate.bat\n",
    "pip install -r requirements.txt\n",
    "set FLASK_APP=app.py\n",
    "flask run\n",
    "\n",
    "Advice to my question on Stackoverflow wasn't sufficient in detail and the question was closed\n",
    "https://stackoverflow.com/questions/65059142/how-do-i-create-a-docker-file-what-do-i-do-with-it\n",
    "\n",
    "To learn how to create A Docker File I went to this website\n",
    "https://www.docker.com/get-started\n",
    "\n",
    "Downloaded an application called Docker Desktop download for windows\n",
    "https://desktop.docker.com/win/stable/Docker%20Desktop%20Installer.exe\n",
    "\n",
    "I then followed the steps, but was not able to move past the errors\n",
    "\n",
    "![docker](docker/Docker1.png)\n",
    "![docker](docker/Docker2.png)\n",
    "![docker](docker/Docker3.png)\n",
    "![docker](docker/Docker4.png)\n",
    "![docker](docker/Docker5.png)\n",
    "![docker](docker/Docker6.png)\n",
    "![docker](docker/Docker7.png)\n",
    "\n",
    "Failing being able to get the docker creation software to work and not finding anything really self explanatory, or help on the stackoverflow community, I did have to consult with a paid expert on Fiverr (https://www.fiverr.com/tgamage/create-docker-file-for-your-requirement) building a docker file for the final docker file requirement because I was unable to run Docker for Desktop.\n",
    "\n",
    "https://github.com/g00387822/Machine_Learning_Project/blob/main/docker/Dockerfile.txt\n",
    "(FYI : dockerfile should not have any extention and it must need to be \"Dockerfile\", some times if your using mac while you download file t will save it as dockerfile.txt which will stop working)\n",
    "\n",
    "If any of the dockerfiles have converted to text, the fix is to use Notepad++ to save as All type\n",
    "\n",
    ">A Dockerfile has no extension . if your using docker on docker on windows use notepad ++ to create a dockerfile while saving select “All type “ and save the file name as “Dockerfile”. https://stackoverflow.com/questions/50042514/what-is-the-dockerfile-extension/50867386\n",
    "\n",
    "------------------------------------------------------------------------------\n",
    "This is freelancer version of Dockerfile\n",
    "\n",
    "FROM ubuntu:16.04<br>\n",
    "\n",
    "RUN apt-get update -y && \\<br>\n",
    "    apt-get install -y python-pip python-dev<br>\n",
    "\n",
    "#Copy project files to container<br>\n",
    "COPY . /app/<br>\n",
    "\n",
    "#change work directory<br>\n",
    "WORKDIR /app<br>\n",
    "\n",
    "#install dependencies<br>\n",
    "RUN pip install -r requirements.txt<br>\n",
    "\n",
    "#if you want to add custom commands you can add here<br> \n",
    "#RUN <your command><br>\n",
    "#eg: RUN python -m venv venv<br>\n",
    "\n",
    "\n",
    "ENTRYPOINT [ \"python\" ]<br>\n",
    "\n",
    "CMD [ \"app.py\" ]<br>\n",
    "\n",
    "#application port. <br>\n",
    "EXPOSE 5000<br>\n",
    "------------------------------------------------------------------------------\n",
    "The guide for using this is here\n",
    "https://github.com/g00387822/Machine_Learning_Project/blob/main/docker/Guide.docx\n",
    "------------------------------------------------------------------------------\n",
    "This is my adaption of Ian McLoughlin's Dockerfile version after watching his video \n",
    "    \n",
    "FROM python:3<br>\n",
    "WORKDIR /usr/src/app<br>\n",
    "COPY requirements.txt ./<br>\n",
    "RUN pip install --no-cache-dir -r requirements.txt<br>\n",
    "COPY . .<br>\n",
    "ENV FLASK_APP=app.py<br>\n",
    "CMD flask run --host=0.0.0.0<br>\n",
    "<br>\n",
    "I am not sure at this point if these will run as unable to install Docker software, but will hope to test on Linux other systems in the future.\n",
    "    "
   ]
  },
  {
   "cell_type": "markdown",
   "metadata": {},
   "source": [
    "\n",
    "\n"
   ]
  },
  {
   "cell_type": "markdown",
   "metadata": {},
   "source": [
    "# 4. Standard items in a git repository such as a README.\n",
    "\n",
    "This git repository contains\n",
    "\n",
    "Jupyter Notebook: powerproduction.ipynb\n",
    "README.MD\n",
    "requirements.txt\n",
    "powerproduction.csv\n",
    "\n",
    "app.py\n",
    "\n",
    "and within the templates folder\n",
    "\n",
    "my-form.html\n",
    "\n",
    "* to do and add \n",
    "\n",
    "gitignore\n",
    "dockerfile\n"
   ]
  },
  {
   "cell_type": "markdown",
   "metadata": {},
   "source": [
    "## Credits\n",
    "\n",
    "The main solution I used for this project came from Dr Ian McLoughlin's demo of sklearn.linear_model and his demo of seaborn.\n",
    "The video of Dr Ian McLoughlin's demonstration can be seen here https://web.microsoftstream.com/video/08404c4e-fe8b-4b84-832e-6bee57b5b160 and the notebook relating to the video can be found here https://github.com/ianmcloughlin/jupyter-teaching-notebooks/blob/master/models.ipynb\n",
    "\n",
    "## Visualisation of the data\n",
    "When Dr McLoughlin was demoing the seaborn sns.regplot method, he demonstrated a great visualisation of the relationship between two variables (penguin flipper length and penguin body mass). As the powerproduction.csv only used two variables, speed and energy, I was able to quickly adapt the code from Dr McLoughlin's example to visualise the relationship between speed and energy.\n",
    "\n",
    "**Dr McLoughlin's code**\n",
    "\n",
    "\n",
    "> import seaborn as sns\n",
    "\n",
    "> penguins = sns.load_dataset(\"penguins\")\n",
    "\n",
    "> flipper = penguins[[\"body_mass_g\", \"flipper_length_mm\"]].dropna()\n",
    "sns.regplot(x=\"body_mass_g\", y=\"flipper_length_mm\", data=penguins)\n",
    "\n",
    "**My adaption of code**\n",
    "\n",
    ">import seaborn as sns\n",
    "import pandas as pd\n",
    "\n",
    ">powerproduction = pd.read_csv('powerproduction.csv')\n",
    "\n",
    ">poweranalysis = powerproduction[[\"speed\", \"power\"]].dropna()\n",
    "sns.regplot(x=\"speed\", y=\"power\", data=powerproduction)\n",
    "\n",
    "\n",
    "_the main adaption I had to make to my code was importing the pandas module so that I could load the csv data for analysis, whereas Dr McLoughlin's code used a dataset called penguins which was already inbuilt into the seaborn module_\n",
    "\n",
    "\n",
    "This visualisation of the data on a linear graph meant that I could quite quickly see whether the output analysis of the inbuilt methods of sklearn were likely to be correct approximations and not wildly out."
   ]
  },
  {
   "cell_type": "code",
   "execution_count": null,
   "metadata": {},
   "outputs": [],
   "source": []
  }
 ],
 "metadata": {
  "kernelspec": {
   "display_name": "Python 3",
   "language": "python",
   "name": "python3"
  },
  "language_info": {
   "codemirror_mode": {
    "name": "ipython",
    "version": 3
   },
   "file_extension": ".py",
   "mimetype": "text/x-python",
   "name": "python",
   "nbconvert_exporter": "python",
   "pygments_lexer": "ipython3",
   "version": "3.8.3"
  }
 },
 "nbformat": 4,
 "nbformat_minor": 4
}
